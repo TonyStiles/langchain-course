{
 "cells": [
  {
   "cell_type": "markdown",
   "metadata": {},
   "source": [
    "## Test Streaming API"
   ]
  },
  {
   "cell_type": "markdown",
   "metadata": {},
   "source": [
    "This notebook covers hitting the API `/invoke` endpoint and streaming the code to our terminal."
   ]
  },
  {
   "cell_type": "code",
   "execution_count": 1,
   "metadata": {},
   "outputs": [],
   "source": [
    "import requests\n",
    "\n",
    "def get_stream(query: str):\n",
    "    localsession = requests.Session()\n",
    "    with localsession.post(\n",
    "        f\"http://localhost:8000/invoke?content={query}\",\n",
    "        stream=True,\n",
    "        headers={\"Accept\": \"text/event-stream\"}\n",
    "    ) as response:\n",
    "        for token in response.iter_content(decode_unicode=True):\n",
    "            if token:  # Skip empty lines\n",
    "                print(token, end=\"\", flush=True)"
   ]
  },
  {
   "cell_type": "markdown",
   "metadata": {},
   "source": [
    "We can test with the simple `add` tool first:"
   ]
  },
  {
   "cell_type": "code",
   "execution_count": 2,
   "metadata": {},
   "outputs": [
    {
     "name": "stdout",
     "output_type": "stream",
     "text": [
      "<step><step_name>add</step_name>{\"x\":5,\"y\":5}</step><step><step_name>final_answer</step_name>{\"answer\":\"The result of 5 + 5 is 10.\",\"tools_used\":[\"functions.add\"]}"
     ]
    }
   ],
   "source": [
    "get_stream(\"what is 5+5\")"
   ]
  },
  {
   "cell_type": "markdown",
   "metadata": {},
   "source": [
    "Now let's try the `serpapi` tool:"
   ]
  },
  {
   "cell_type": "code",
   "execution_count": 3,
   "metadata": {},
   "outputs": [
    {
     "name": "stdout",
     "output_type": "stream",
     "text": [
      "<step><step_name>serpapi</step_name>{\"query\":\"latest world news\"}</step><step><step_name>final_answer</step_name>{\"answer\":\"Here are some of the latest news highlights from around the world:\\n\\n1. **Australia PM Albanese makes stunning comeback with landslide win** - [BBC](https://www.bbc.com/news/world)\\n2. **Zelensky says talks with Trump at pope's funeral were their 'best' yet** - [CNN](https://www.cnn.com/world)\\n3. **Russian drone attack on Kyiv injures 11, causes fires in housing blocks** - [Reuters](https://www.reuters.com/world/)\\n4. **US attacks Yemen port again; Houthis launch missiles at Israel** - [Al Jazeera](https://www.aljazeera.com/)\\n5. **UK military launches strikes against Houthis in Yemen, in joint operation with US** - [CNN](https://www.cnn.com/)\\n\\nFor more detailed updates, you can visit the respective news sources.\",\"tools_used\":[\"serpapi\"]}"
     ]
    }
   ],
   "source": [
    "get_stream(\"tell me about the latest news in the world\")"
   ]
  },
  {
   "cell_type": "code",
   "execution_count": 4,
   "metadata": {},
   "outputs": [
    {
     "name": "stdout",
     "output_type": "stream",
     "text": [
      "<step><step_name>serpapi</step_name>{\"query\": \"current temperature in Oslo\"}<step><step_name>multiply</step_name>{\"x\": 5, \"y\": 5}</step><step><step_name>final_answer</step_name>{\"answer\":\"The current temperature in Oslo is approximately 36°F (2°C). The result of 5 * 5 is 25. When you multiply the temperature (36) by 25, you get 900.\",\"tools_used\":[\"serpapi\",\"functions.multiply\"]}"
     ]
    }
   ],
   "source": [
    "get_stream(\n",
    "    \"how cold is it in oslo right now, what is 5*5, and what \"\n",
    "    \"do you get when multiplying those two numbers together?\"\n",
    ")"
   ]
  },
  {
   "cell_type": "code",
   "execution_count": 5,
   "metadata": {},
   "outputs": [
    {
     "name": "stdout",
     "output_type": "stream",
     "text": [
      "<step><step_name>serpapi</step_name>{\"query\": \"current date and time in Dubai\"}<step><step_name>serpapi</step_name>{\"query\": \"current date and time in Tokyo\"}<step><step_name>serpapi</step_name>{\"query\": \"current date and time in Berlin\"}</step><step><step_name>final_answer</step_name>{\"answer\": \"The current date and time are as follows:\\n\\n- **Dubai**: 6:34 AM\\n- **Tokyo**: 9:27 AM\\n- **Berlin**: 11:16 AM\", \"tools_used\": [\"serpapi\"]}<step><step_name>final_answer</step_name>{\"answer\": \"The current date and time are as follows:\\n\\n- **Dubai**: 6:34 AM\\n- **Tokyo**: 9:27 AM\\n- **Berlin**: 11:16 AM\", \"tools_used\": [\"serpapi\"]}<step><step_name>final_answer</step_name>{\"answer\": \"The current date and time are as follows:\\n\\n- **Dubai**: 6:34 AM\\n- **Tokyo**: 9:27 AM\\n- **Berlin**: 11:16 AM\", \"tools_used\": [\"serpapi\"]}"
     ]
    }
   ],
   "source": [
    "get_stream(\"what is the current date and time in these places: dubai, tokyo, berlin?\")"
   ]
  },
  {
   "cell_type": "markdown",
   "metadata": {},
   "source": [
    "---"
   ]
  }
 ],
 "metadata": {
  "kernelspec": {
   "display_name": ".venv",
   "language": "python",
   "name": "python3"
  },
  "language_info": {
   "codemirror_mode": {
    "name": "ipython",
    "version": 3
   },
   "file_extension": ".py",
   "mimetype": "text/x-python",
   "name": "python",
   "nbconvert_exporter": "python",
   "pygments_lexer": "ipython3",
   "version": "3.12.9"
  }
 },
 "nbformat": 4,
 "nbformat_minor": 2
}
