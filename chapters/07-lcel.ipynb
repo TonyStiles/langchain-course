{
 "cells": [
  {
   "cell_type": "markdown",
   "metadata": {
    "id": "8AsMFKCALr3y"
   },
   "source": [
    "[![Open In Colab](https://colab.research.google.com/assets/colab-badge.svg)](https://colab.research.google.com/github/aurelio-labs/langchain-course/blob/main/chapters/07-lcel.ipynb)"
   ]
  },
  {
   "cell_type": "markdown",
   "metadata": {
    "id": "8PQji83qLpVC"
   },
   "source": [
    "#### LangChain Essentials Course"
   ]
  },
  {
   "cell_type": "markdown",
   "metadata": {
    "id": "22dLBWVZLpVD"
   },
   "source": [
    "# LangChains Expression Language"
   ]
  },
  {
   "cell_type": "markdown",
   "metadata": {
    "id": "eiRUqmfBLpVE"
   },
   "source": [
    "LangChain is one of the most popular open source libraries for AI Engineers. It's goal is to abstract away the complexity in building AI software, provide easy-to-use building blocks, and make it easier when switching between AI service providers.\n",
    "\n",
    "In this example, we will introduce LangChain's Expression Langauge (LCEL), abstracting a full chain and understanding how it will work. We'll provide examples for both OpenAI's `gpt-4o-mini` *and* Meta's `llama3.2` via Ollama!"
   ]
  },
  {
   "cell_type": "code",
   "execution_count": 35,
   "metadata": {
    "id": "i690tIabLwb_"
   },
   "outputs": [],
   "source": [
    "!pip install -qU \\\n",
    "  langchain-core==0.3.33 \\\n",
    "  langchain-openai==0.3.3 \\\n",
    "  langchain-community==0.3.16 \\\n",
    "  langsmith==0.3.4 \\\n",
    "  docarray==0.40.0"
   ]
  },
  {
   "cell_type": "markdown",
   "metadata": {
    "id": "WOR87lEpLpVE"
   },
   "source": [
    "---\n",
    "\n",
    "> ⚠️ We will be using OpenAI for this example allowing us to run everything via API. If you would like to use Ollama instead, check out the [Ollama LangChain Course](https://github.com/aurelio-labs/langchain-course/tree/main/notebooks/ollama).\n",
    "\n",
    "---"
   ]
  },
  {
   "cell_type": "markdown",
   "metadata": {
    "id": "cfpD-R6sLpVE"
   },
   "source": [
    "---\n",
    "\n",
    "> ⚠️ If using LangSmith, add your API key below:"
   ]
  },
  {
   "cell_type": "code",
   "execution_count": 1,
   "metadata": {
    "id": "exBqQHgqLpVE"
   },
   "outputs": [],
   "source": [
    "import os\n",
    "from getpass import getpass\n",
    "\n",
    "os.environ[\"LANGCHAIN_API_KEY\"] = os.getenv(\"LANGCHAIN_API_KEY\") or \\\n",
    "    getpass(\"Enter LangSmith API Key: \")\n",
    "\n",
    "os.environ[\"LANGCHAIN_TRACING_V2\"] = \"true\"\n",
    "os.environ[\"LANGCHAIN_ENDPOINT\"] = \"https://api.smith.langchain.com\"\n",
    "os.environ[\"LANGCHAIN_PROJECT\"] = \"aurelioai-langchain-course-lcel-openai\""
   ]
  },
  {
   "cell_type": "markdown",
   "metadata": {
    "id": "YYGeByKjLpVF"
   },
   "source": [
    "---"
   ]
  },
  {
   "cell_type": "markdown",
   "metadata": {
    "id": "qQbgErgdLpVF"
   },
   "source": [
    "## Traditional Chains vs LCEL"
   ]
  },
  {
   "cell_type": "markdown",
   "metadata": {
    "id": "Dyluns_ELpVF"
   },
   "source": [
    "In this section we're going to dive into a basic example using the traditional method for building chains before jumping into LCEL. We will build a pipeline where the user must input a specific topic, and then the LLM will look and return a report on the specified topic. Generating a _research report_ for the user."
   ]
  },
  {
   "cell_type": "markdown",
   "metadata": {
    "id": "uTZTTiK7LpVF"
   },
   "source": [
    "### Traditional LLMChain"
   ]
  },
  {
   "cell_type": "markdown",
   "metadata": {
    "id": "fDHfbKZ7LpVF"
   },
   "source": [
    "The `LLMChain` is the simplest chain originally introduced in LangChain. This chain takes a prompt, feeds it into an LLM, and _optionally_ adds an output parsing step before returning the result.\n",
    "\n",
    "Let's see how we construct this using the traditional method, for this we need:\n",
    "\n",
    "* `prompt` — a `PromptTemplate` that will be used to generate the prompt for the LLM.\n",
    "* `llm` — the LLM we will be using to generate the output.\n",
    "* `output_parser` — an optional output parser that will be used to parse the structured output of the LLM."
   ]
  },
  {
   "cell_type": "code",
   "execution_count": 2,
   "metadata": {
    "id": "Jyz2vWLoLpVF"
   },
   "outputs": [],
   "source": [
    "from langchain import PromptTemplate\n",
    "\n",
    "prompt_template = \"Give me a small report on {topic}\"\n",
    "\n",
    "prompt = PromptTemplate(\n",
    "    input_variables=[\"topic\"],\n",
    "    template=prompt_template\n",
    ")"
   ]
  },
  {
   "cell_type": "markdown",
   "metadata": {
    "id": "Rykro39YLpVF"
   },
   "source": [
    "For the LLM, we'll start by initializing our connection to the OpenAI API. We do need an OpenAI API key, which you can get from the [OpenAI platform](https://platform.openai.com/api-keys).\n",
    "\n",
    "We will use the `gpt-4o-mini` model with a `temperature` of `0.0`:"
   ]
  },
  {
   "cell_type": "code",
   "execution_count": 3,
   "metadata": {
    "id": "Uvs7hILRLpVF"
   },
   "outputs": [],
   "source": [
    "import os\n",
    "from getpass import getpass\n",
    "from langchain_openai import ChatOpenAI\n",
    "\n",
    "os.environ[\"OPENAI_API_KEY\"] = os.getenv(\"OPENAI_API_KEY\") \\\n",
    "    or getpass(\"Enter your OpenAI API key: \")\n",
    "\n",
    "llm = ChatOpenAI(\n",
    "    model_name=\"gpt-4o-mini\",\n",
    "    temperature=0.0,\n",
    ")"
   ]
  },
  {
   "cell_type": "code",
   "execution_count": 4,
   "metadata": {
    "colab": {
     "base_uri": "https://localhost:8080/"
    },
    "id": "nhs6_3c4LpVF",
    "outputId": "b7051222-b74e-45c0-d19f-ac28a6bb87fd"
   },
   "outputs": [
    {
     "data": {
      "text/plain": [
       "AIMessage(content='Hello! How can I assist you today?', additional_kwargs={'refusal': None}, response_metadata={'token_usage': {'completion_tokens': 10, 'prompt_tokens': 9, 'total_tokens': 19, 'completion_tokens_details': {'accepted_prediction_tokens': 0, 'audio_tokens': 0, 'reasoning_tokens': 0, 'rejected_prediction_tokens': 0}, 'prompt_tokens_details': {'audio_tokens': 0, 'cached_tokens': 0}}, 'model_name': 'gpt-4o-mini-2024-07-18', 'system_fingerprint': 'fp_0392822090', 'id': 'chatcmpl-BTPehOSOsITW701fivEWl7Q9LWicI', 'finish_reason': 'stop', 'logprobs': None}, id='run-eac29f30-0f65-444e-9995-b855529aba4f-0', usage_metadata={'input_tokens': 9, 'output_tokens': 10, 'total_tokens': 19, 'input_token_details': {'audio': 0, 'cache_read': 0}, 'output_token_details': {'audio': 0, 'reasoning': 0}})"
      ]
     },
     "execution_count": 4,
     "metadata": {},
     "output_type": "execute_result"
    }
   ],
   "source": [
    "llm_out = llm.invoke(\"Hello there\")\n",
    "llm_out"
   ]
  },
  {
   "cell_type": "markdown",
   "metadata": {
    "id": "V39qjMpLLpVG"
   },
   "source": [
    "Then we define our output parser, this will be used to parse the output of the LLM. In this case, we will use the `StrOutputParser` which will parse the `AIMessage` output from our LLM into a single string."
   ]
  },
  {
   "cell_type": "code",
   "execution_count": 5,
   "metadata": {
    "id": "46qTjklnLpVG"
   },
   "outputs": [],
   "source": [
    "from langchain.schema.output_parser import StrOutputParser\n",
    "\n",
    "output_parser = StrOutputParser()"
   ]
  },
  {
   "cell_type": "code",
   "execution_count": 6,
   "metadata": {
    "colab": {
     "base_uri": "https://localhost:8080/",
     "height": 35
    },
    "id": "z0uwxedBLpVG",
    "outputId": "faa83a90-aa81-40ba-b9a9-625507c7b7be"
   },
   "outputs": [
    {
     "data": {
      "text/plain": [
       "'Hello! How can I assist you today?'"
      ]
     },
     "execution_count": 6,
     "metadata": {},
     "output_type": "execute_result"
    }
   ],
   "source": [
    "out = output_parser.invoke(llm_out)\n",
    "out"
   ]
  },
  {
   "cell_type": "markdown",
   "metadata": {
    "id": "mk4CUy52LpVG"
   },
   "source": [
    "Through the `LLMChain` class we can place each of our components into a linear `chain`."
   ]
  },
  {
   "cell_type": "code",
   "execution_count": 7,
   "metadata": {
    "id": "PrFk1J9dLpVG"
   },
   "outputs": [
    {
     "name": "stderr",
     "output_type": "stream",
     "text": [
      "C:\\Users\\tonys\\AppData\\Local\\Temp\\ipykernel_6856\\2960353250.py:3: LangChainDeprecationWarning: The class `LLMChain` was deprecated in LangChain 0.1.17 and will be removed in 1.0. Use :meth:`~RunnableSequence, e.g., `prompt | llm`` instead.\n",
      "  chain = LLMChain(prompt=prompt, llm=llm, output_parser=output_parser)\n"
     ]
    }
   ],
   "source": [
    "from langchain.chains import LLMChain\n",
    "\n",
    "chain = LLMChain(prompt=prompt, llm=llm, output_parser=output_parser)"
   ]
  },
  {
   "cell_type": "markdown",
   "metadata": {
    "id": "qjNsVMVpLpVG"
   },
   "source": [
    "Note that the `LLMChain` _was_ deprecated in LangChain `0.1.17`, the expected way of constructing these chains today is through LCEL, which we'll cover in a moment.\n",
    "\n",
    "We can `invoke` our `chain`, providing a `topic` that we'd like to be researched."
   ]
  },
  {
   "cell_type": "code",
   "execution_count": 8,
   "metadata": {
    "colab": {
     "base_uri": "https://localhost:8080/"
    },
    "id": "lDDq8Cq7LpVG",
    "outputId": "e30de2aa-7005-45f4-cb96-e681e9c2c1d2"
   },
   "outputs": [
    {
     "data": {
      "text/plain": [
       "{'topic': 'retrieval augmented generation',\n",
       " 'text': '### Report on Retrieval-Augmented Generation (RAG)\\n\\n#### Introduction\\nRetrieval-Augmented Generation (RAG) is an innovative approach that combines the strengths of information retrieval and natural language generation. This method enhances the capabilities of language models by allowing them to access external knowledge bases or documents during the generation process, thereby improving the accuracy and relevance of the generated content.\\n\\n#### Key Concepts\\n1. **Retrieval Mechanism**: RAG employs a retrieval system to fetch relevant documents or snippets from a large corpus based on the input query. This retrieval step is crucial as it provides the model with contextually relevant information that may not be present in its training data.\\n\\n2. **Generation Mechanism**: After retrieving relevant documents, a generative model (often based on transformer architectures like BERT or GPT) synthesizes a coherent response or output. The model uses both the input query and the retrieved information to produce a more informed and contextually appropriate response.\\n\\n3. **Hybrid Architecture**: RAG typically consists of two main components:\\n   - **Retriever**: This component identifies and retrieves relevant documents from a predefined knowledge base or database.\\n   - **Generator**: This component generates text based on the retrieved documents and the original query.\\n\\n#### Advantages\\n- **Enhanced Knowledge Access**: By integrating retrieval, RAG can access up-to-date information and specialized knowledge that may not be encoded in the model\\'s parameters.\\n- **Improved Accuracy**: The model can produce more accurate and contextually relevant responses, especially for niche topics or recent events.\\n- **Reduced Hallucination**: RAG can mitigate the issue of \"hallucination,\" where generative models produce plausible-sounding but incorrect or nonsensical information.\\n\\n#### Applications\\n- **Question Answering**: RAG is particularly effective in systems designed for answering questions, where it can pull in relevant data to provide precise answers.\\n- **Content Creation**: It can assist in generating articles, reports, or summaries by retrieving relevant information from various sources.\\n- **Conversational Agents**: RAG can enhance chatbots and virtual assistants by allowing them to provide more informed responses based on real-time data.\\n\\n#### Challenges\\n- **Complexity**: The integration of retrieval and generation components can complicate the architecture and increase the computational requirements.\\n- **Quality of Retrieved Information**: The effectiveness of RAG heavily depends on the quality and relevance of the retrieved documents. Poor retrieval can lead to suboptimal generation.\\n- **Latency**: The retrieval process can introduce latency, which may affect the responsiveness of applications, particularly in real-time systems.\\n\\n#### Conclusion\\nRetrieval-Augmented Generation represents a significant advancement in the field of natural language processing, combining the strengths of retrieval systems with generative models. By leveraging external knowledge, RAG enhances the accuracy and relevance of generated content, making it a powerful tool for various applications, from question answering to content creation. As research and development in this area continue, RAG is likely to play an increasingly important role in the evolution of intelligent systems.'}"
      ]
     },
     "execution_count": 8,
     "metadata": {},
     "output_type": "execute_result"
    }
   ],
   "source": [
    "result = chain.invoke(\"retrieval augmented generation\")\n",
    "result"
   ]
  },
  {
   "cell_type": "markdown",
   "metadata": {
    "id": "hbHqc1qLLpVG"
   },
   "source": [
    "We can view a formatted version of this output using the `Markdown` display:"
   ]
  },
  {
   "cell_type": "code",
   "execution_count": 9,
   "metadata": {
    "colab": {
     "base_uri": "https://localhost:8080/",
     "height": 980
    },
    "id": "hBxPHOZ-LpVG",
    "outputId": "23c54f43-dc98-4c56-a47f-4a996b206eb7"
   },
   "outputs": [
    {
     "data": {
      "text/markdown": [
       "### Report on Retrieval-Augmented Generation (RAG)\n",
       "\n",
       "#### Introduction\n",
       "Retrieval-Augmented Generation (RAG) is an innovative approach that combines the strengths of information retrieval and natural language generation. This method enhances the capabilities of language models by allowing them to access external knowledge bases or documents during the generation process, thereby improving the accuracy and relevance of the generated content.\n",
       "\n",
       "#### Key Concepts\n",
       "1. **Retrieval Mechanism**: RAG employs a retrieval system to fetch relevant documents or snippets from a large corpus based on the input query. This retrieval step is crucial as it provides the model with contextually relevant information that may not be present in its training data.\n",
       "\n",
       "2. **Generation Mechanism**: After retrieving relevant documents, a generative model (often based on transformer architectures like BERT or GPT) synthesizes a coherent response or output. The model uses both the input query and the retrieved information to produce a more informed and contextually appropriate response.\n",
       "\n",
       "3. **Hybrid Architecture**: RAG typically consists of two main components:\n",
       "   - **Retriever**: This component identifies and retrieves relevant documents from a predefined knowledge base or database.\n",
       "   - **Generator**: This component generates text based on the retrieved documents and the original query.\n",
       "\n",
       "#### Advantages\n",
       "- **Enhanced Knowledge Access**: By integrating retrieval, RAG can access up-to-date information and specialized knowledge that may not be encoded in the model's parameters.\n",
       "- **Improved Accuracy**: The model can produce more accurate and contextually relevant responses, especially for niche topics or recent events.\n",
       "- **Reduced Hallucination**: RAG can mitigate the issue of \"hallucination,\" where generative models produce plausible-sounding but incorrect or nonsensical information.\n",
       "\n",
       "#### Applications\n",
       "- **Question Answering**: RAG is particularly effective in systems designed for answering questions, where it can pull in relevant data to provide precise answers.\n",
       "- **Content Creation**: It can assist in generating articles, reports, or summaries by retrieving relevant information from various sources.\n",
       "- **Conversational Agents**: RAG can enhance chatbots and virtual assistants by allowing them to provide more informed responses based on real-time data.\n",
       "\n",
       "#### Challenges\n",
       "- **Complexity**: The integration of retrieval and generation components can complicate the architecture and increase the computational requirements.\n",
       "- **Quality of Retrieved Information**: The effectiveness of RAG heavily depends on the quality and relevance of the retrieved documents. Poor retrieval can lead to suboptimal generation.\n",
       "- **Latency**: The retrieval process can introduce latency, which may affect the responsiveness of applications, particularly in real-time systems.\n",
       "\n",
       "#### Conclusion\n",
       "Retrieval-Augmented Generation represents a significant advancement in the field of natural language processing, combining the strengths of retrieval systems with generative models. By leveraging external knowledge, RAG enhances the accuracy and relevance of generated content, making it a powerful tool for various applications, from question answering to content creation. As research and development in this area continue, RAG is likely to play an increasingly important role in the evolution of intelligent systems."
      ],
      "text/plain": [
       "<IPython.core.display.Markdown object>"
      ]
     },
     "metadata": {},
     "output_type": "display_data"
    }
   ],
   "source": [
    "from IPython.display import display, Markdown\n",
    "\n",
    "display(Markdown(result[\"text\"]))"
   ]
  },
  {
   "cell_type": "markdown",
   "metadata": {
    "id": "Cbmq0DfeLpVG"
   },
   "source": [
    "That is a simple `LLMChain` using the traditional LangChain method. Now let's move onto LCEL."
   ]
  },
  {
   "cell_type": "markdown",
   "metadata": {
    "id": "lWets8OpLpVG"
   },
   "source": [
    "## LangChain Expression Language (LCEL)"
   ]
  },
  {
   "cell_type": "markdown",
   "metadata": {
    "id": "7Lr5NA0xLpVG"
   },
   "source": [
    "**L**ang**C**hain **E**xpression **L**anguage (LCEL) is the recommended approach to building chains in LangChain. Having superceeded the traditional methods with `LLMChain`, etc. LCEL gives us a more flexible system for building chains. The pipe operator `|` is used by LCEL to _chain_ together components. Let's see how we'd construct an `LLMChain` using LCEL."
   ]
  },
  {
   "cell_type": "code",
   "execution_count": 10,
   "metadata": {
    "id": "8R-9b7ulLpVH"
   },
   "outputs": [],
   "source": [
    "lcel_chain = prompt | llm | output_parser"
   ]
  },
  {
   "cell_type": "markdown",
   "metadata": {
    "id": "KdJvzetzLpVH"
   },
   "source": [
    "We can `invoke` this chain in the same way as we did before:"
   ]
  },
  {
   "cell_type": "code",
   "execution_count": 11,
   "metadata": {
    "colab": {
     "base_uri": "https://localhost:8080/",
     "height": 226
    },
    "id": "XKWzIwpCLpVH",
    "outputId": "9dc83fdd-98a4-4513-dcac-055092aeeb12"
   },
   "outputs": [
    {
     "data": {
      "text/plain": [
       "'### Report on Retrieval-Augmented Generation (RAG)\\n\\n#### Introduction\\nRetrieval-Augmented Generation (RAG) is an innovative approach that combines the strengths of information retrieval and natural language generation. This method enhances the capabilities of language models by allowing them to access external knowledge sources, thereby improving the accuracy and relevance of generated responses.\\n\\n#### Concept Overview\\nRAG operates on the principle of integrating a retrieval mechanism with a generative model. The process typically involves two main components:\\n\\n1. **Retrieval Component**: This part of the system retrieves relevant documents or pieces of information from a large corpus based on a given query. It often employs techniques such as dense vector representations and similarity search to identify the most pertinent data.\\n\\n2. **Generation Component**: Once the relevant information is retrieved, the generative model (often based on architectures like Transformers) uses this data to produce coherent and contextually appropriate responses. The model can leverage the retrieved content to enhance its output, making it more informative and accurate.\\n\\n#### Advantages\\n- **Enhanced Knowledge Access**: RAG allows models to tap into vast external knowledge bases, which can significantly improve the quality of responses, especially for niche or less common queries.\\n- **Dynamic Information Updating**: Unlike static models that rely solely on pre-existing training data, RAG can incorporate up-to-date information from external sources, making it more relevant in rapidly changing domains.\\n- **Improved Contextual Understanding**: By retrieving contextually relevant documents, RAG can generate responses that are more aligned with user intent and the specifics of the query.\\n\\n#### Applications\\nRAG has a wide range of applications, including:\\n- **Customer Support**: Providing accurate and context-aware responses to customer inquiries by retrieving relevant documentation or FAQs.\\n- **Content Creation**: Assisting writers by generating content that is informed by existing literature or data.\\n- **Question Answering Systems**: Enhancing the performance of QA systems by retrieving and synthesizing information from multiple sources.\\n\\n#### Challenges\\nDespite its advantages, RAG also faces several challenges:\\n- **Retrieval Quality**: The effectiveness of the system heavily depends on the quality of the retrieval component. Poor retrieval can lead to irrelevant or misleading information being used in generation.\\n- **Complexity**: Integrating retrieval and generation processes can increase the complexity of the system, requiring careful tuning and optimization.\\n- **Latency**: The retrieval process can introduce latency, which may be a concern in real-time applications.\\n\\n#### Conclusion\\nRetrieval-Augmented Generation represents a significant advancement in the field of natural language processing, merging the capabilities of information retrieval with generative models. By leveraging external knowledge, RAG systems can produce more accurate, relevant, and contextually rich outputs. As research and development in this area continue, RAG is poised to play a crucial role in various applications, enhancing user experiences across multiple domains.'"
      ]
     },
     "execution_count": 11,
     "metadata": {},
     "output_type": "execute_result"
    }
   ],
   "source": [
    "result = lcel_chain.invoke(\"retrieval augmented generation\")\n",
    "result"
   ]
  },
  {
   "cell_type": "markdown",
   "metadata": {
    "id": "x7E8_msHLpVH"
   },
   "source": [
    "The output format is slightly different, but the underlying functionality and content being output is the same. As before, we can view a formatted version of this output using the `Markdown` display:"
   ]
  },
  {
   "cell_type": "code",
   "execution_count": 12,
   "metadata": {
    "colab": {
     "base_uri": "https://localhost:8080/",
     "height": 997
    },
    "id": "42uPzB1JLpVH",
    "outputId": "0d7254e1-0cfe-43ff-dea2-dfad2f760007"
   },
   "outputs": [
    {
     "data": {
      "text/markdown": [
       "### Report on Retrieval-Augmented Generation (RAG)\n",
       "\n",
       "#### Introduction\n",
       "Retrieval-Augmented Generation (RAG) is an innovative approach that combines the strengths of information retrieval and natural language generation. This method enhances the capabilities of language models by allowing them to access external knowledge sources, thereby improving the accuracy and relevance of generated responses.\n",
       "\n",
       "#### Concept Overview\n",
       "RAG operates on the principle of integrating a retrieval mechanism with a generative model. The process typically involves two main components:\n",
       "\n",
       "1. **Retrieval Component**: This part of the system retrieves relevant documents or pieces of information from a large corpus based on a given query. It often employs techniques such as dense vector representations and similarity search to identify the most pertinent data.\n",
       "\n",
       "2. **Generation Component**: Once the relevant information is retrieved, the generative model (often based on architectures like Transformers) uses this data to produce coherent and contextually appropriate responses. The model can leverage the retrieved content to enhance its output, making it more informative and accurate.\n",
       "\n",
       "#### Advantages\n",
       "- **Enhanced Knowledge Access**: RAG allows models to tap into vast external knowledge bases, which can significantly improve the quality of responses, especially for niche or less common queries.\n",
       "- **Dynamic Information Updating**: Unlike static models that rely solely on pre-existing training data, RAG can incorporate up-to-date information from external sources, making it more relevant in rapidly changing domains.\n",
       "- **Improved Contextual Understanding**: By retrieving contextually relevant documents, RAG can generate responses that are more aligned with user intent and the specifics of the query.\n",
       "\n",
       "#### Applications\n",
       "RAG has a wide range of applications, including:\n",
       "- **Customer Support**: Providing accurate and context-aware responses to customer inquiries by retrieving relevant documentation or FAQs.\n",
       "- **Content Creation**: Assisting writers by generating content that is informed by existing literature or data.\n",
       "- **Question Answering Systems**: Enhancing the performance of QA systems by retrieving and synthesizing information from multiple sources.\n",
       "\n",
       "#### Challenges\n",
       "Despite its advantages, RAG also faces several challenges:\n",
       "- **Retrieval Quality**: The effectiveness of the system heavily depends on the quality of the retrieval component. Poor retrieval can lead to irrelevant or misleading information being used in generation.\n",
       "- **Complexity**: Integrating retrieval and generation processes can increase the complexity of the system, requiring careful tuning and optimization.\n",
       "- **Latency**: The retrieval process can introduce latency, which may be a concern in real-time applications.\n",
       "\n",
       "#### Conclusion\n",
       "Retrieval-Augmented Generation represents a significant advancement in the field of natural language processing, merging the capabilities of information retrieval with generative models. By leveraging external knowledge, RAG systems can produce more accurate, relevant, and contextually rich outputs. As research and development in this area continue, RAG is poised to play a crucial role in various applications, enhancing user experiences across multiple domains."
      ],
      "text/plain": [
       "<IPython.core.display.Markdown object>"
      ]
     },
     "metadata": {},
     "output_type": "display_data"
    }
   ],
   "source": [
    "display(Markdown(result))"
   ]
  },
  {
   "cell_type": "markdown",
   "metadata": {
    "id": "MbutFcpyLpVI"
   },
   "source": [
    "### How Does the Pipe Operator Work?"
   ]
  },
  {
   "cell_type": "markdown",
   "metadata": {
    "id": "QIjOY7VILpVI"
   },
   "source": [
    "Before moving onto other LCEL features, let's take a moment to understand what the pipe operator `|` is doing and _how_ it works.\n",
    "\n",
    "Functionality wise, the pipe tells you that whatever the _left_ side outputs will be fed as input into the _right_ side. In the example of `prompt | llm | output_parser`, we see that `prompt` feeds into `llm` feeds into `output_parser`.\n",
    "\n",
    "The pipe operator is a way of chaining together components, and is a way of saying that whatever the _left_ side outputs will be fed as input into the _right_ side.\n",
    "\n",
    "Let's make a basic class named `Runnable` that will transform our a provided function into a _runnable_ class that we will then use with the pipe `|` operator."
   ]
  },
  {
   "cell_type": "code",
   "execution_count": 13,
   "metadata": {
    "id": "9xTvwvF4LpVI"
   },
   "outputs": [],
   "source": [
    "class Runnable:\n",
    "    def __init__(self, func):\n",
    "        self.func = func\n",
    "    def __or__(self, other):\n",
    "        def chained_func(*args, **kwargs):\n",
    "            return other.invoke(self.func(*args, **kwargs))\n",
    "        return Runnable(chained_func)\n",
    "    def invoke(self, *args, **kwargs):\n",
    "        return self.func(*args, **kwargs)"
   ]
  },
  {
   "cell_type": "markdown",
   "metadata": {
    "id": "E2Vg_PhXLpVI"
   },
   "source": [
    "With the `Runnable` class, we will be able wrap a function into the class, allowing us to then chain together multiple of these _runnable_ functions using the `__or__` method.\n",
    "\n",
    "First, let's create a few functions that we'll chain together:"
   ]
  },
  {
   "cell_type": "code",
   "execution_count": 14,
   "metadata": {
    "id": "G7HCw9-VLpVI"
   },
   "outputs": [],
   "source": [
    "def add_five(x):\n",
    "    return x+5\n",
    "\n",
    "def sub_five(x):\n",
    "    return x-5\n",
    "\n",
    "def mul_five(x):\n",
    "    return x*5"
   ]
  },
  {
   "cell_type": "markdown",
   "metadata": {
    "id": "l0fDvmtWLpVI"
   },
   "source": [
    "Now we wrap our functions with the `Runnable`:"
   ]
  },
  {
   "cell_type": "code",
   "execution_count": 15,
   "metadata": {
    "id": "LfnBBcbxLpVI"
   },
   "outputs": [],
   "source": [
    "add_five_runnable = Runnable(add_five)\n",
    "sub_five_runnable = Runnable(sub_five)\n",
    "mul_five_runnable = Runnable(mul_five)"
   ]
  },
  {
   "cell_type": "markdown",
   "metadata": {
    "id": "9jHLbl_7LpVI"
   },
   "source": [
    "Finally, we can chain these together using the `__or__` method from the `Runnable` class:"
   ]
  },
  {
   "cell_type": "code",
   "execution_count": 16,
   "metadata": {
    "colab": {
     "base_uri": "https://localhost:8080/"
    },
    "id": "BHFo61TwLpVI",
    "outputId": "3a03c07b-7ca9-45f5-ab2e-a979565b7e42"
   },
   "outputs": [
    {
     "data": {
      "text/plain": [
       "15"
      ]
     },
     "execution_count": 16,
     "metadata": {},
     "output_type": "execute_result"
    }
   ],
   "source": [
    "chain = (add_five_runnable).__or__(sub_five_runnable).__or__(mul_five_runnable)\n",
    "\n",
    "chain.invoke(3)"
   ]
  },
  {
   "cell_type": "markdown",
   "metadata": {
    "id": "_oim1zWHLpVI"
   },
   "source": [
    "So we can see that we're able to chain together our functions using `__or__`. The pipe `|` operator is simply a shortcut for the `__or__` method, so we can create the exact same chain like so:"
   ]
  },
  {
   "cell_type": "code",
   "execution_count": 17,
   "metadata": {
    "colab": {
     "base_uri": "https://localhost:8080/"
    },
    "id": "uh3-jF8pLpVJ",
    "outputId": "933ea922-f587-4f98-e825-b26113c5dc08"
   },
   "outputs": [
    {
     "data": {
      "text/plain": [
       "15"
      ]
     },
     "execution_count": 17,
     "metadata": {},
     "output_type": "execute_result"
    }
   ],
   "source": [
    "chain = add_five_runnable | sub_five_runnable | mul_five_runnable\n",
    "\n",
    "chain.invoke(3)"
   ]
  },
  {
   "cell_type": "markdown",
   "metadata": {
    "id": "1Lnj00T8LpVJ"
   },
   "source": [
    "## LCEL `RunnableLambda`\n",
    "\n",
    "The `RunnableLambda` class is LangChain's built-in method for constructing a _runnable_ object from a function. That is, it does the same thing as the custom `Runnable` class we created earlier. Let's try it out with the same functions as before."
   ]
  },
  {
   "cell_type": "code",
   "execution_count": 18,
   "metadata": {
    "id": "BmMH8GzVLpVJ"
   },
   "outputs": [],
   "source": [
    "from langchain_core.runnables import RunnableLambda\n",
    "\n",
    "add_five_runnable = RunnableLambda(add_five)\n",
    "sub_five_runnable = RunnableLambda(sub_five)\n",
    "mul_five_runnable = RunnableLambda(mul_five)"
   ]
  },
  {
   "cell_type": "markdown",
   "metadata": {
    "id": "xkpwIKq6LpVJ"
   },
   "source": [
    "We chain these together again with the pipe `|` operator:"
   ]
  },
  {
   "cell_type": "code",
   "execution_count": 19,
   "metadata": {
    "id": "9e58vaSELpVJ"
   },
   "outputs": [],
   "source": [
    "chain = add_five_runnable | sub_five_runnable | mul_five_runnable"
   ]
  },
  {
   "cell_type": "markdown",
   "metadata": {
    "id": "_FdqbdAyLpVJ"
   },
   "source": [
    "And call them using the `invoke` method:"
   ]
  },
  {
   "cell_type": "code",
   "execution_count": 20,
   "metadata": {
    "colab": {
     "base_uri": "https://localhost:8080/"
    },
    "id": "rqHBMT8ULpVJ",
    "outputId": "b32dcaf1-1207-4cd4-f881-d9ffd5a754d8"
   },
   "outputs": [
    {
     "data": {
      "text/plain": [
       "15"
      ]
     },
     "execution_count": 20,
     "metadata": {},
     "output_type": "execute_result"
    }
   ],
   "source": [
    "chain.invoke(3)"
   ]
  },
  {
   "cell_type": "markdown",
   "metadata": {
    "id": "47mu4xxqLpVJ"
   },
   "source": [
    "Now we want to try something a little more testing, so this time we will generate a report, and we will try and edit that report using this functionallity."
   ]
  },
  {
   "cell_type": "code",
   "execution_count": 21,
   "metadata": {
    "id": "xRJLzshqLpVJ"
   },
   "outputs": [],
   "source": [
    "prompt_str = \"give me a small report about {topic}\"\n",
    "prompt = PromptTemplate(\n",
    "    input_variables=[\"topic\"],\n",
    "    template=prompt_str\n",
    ")"
   ]
  },
  {
   "cell_type": "code",
   "execution_count": 22,
   "metadata": {
    "id": "lfl_s4VALpVJ"
   },
   "outputs": [],
   "source": [
    "chain = prompt | llm | output_parser"
   ]
  },
  {
   "cell_type": "code",
   "execution_count": 23,
   "metadata": {
    "colab": {
     "base_uri": "https://localhost:8080/",
     "height": 1000
    },
    "id": "WSMlRM8wLpVJ",
    "outputId": "2b25fd0b-8e2c-4513-9980-25f587eee58b"
   },
   "outputs": [
    {
     "data": {
      "text/markdown": [
       "### Report on Artificial Intelligence (AI)\n",
       "\n",
       "#### Introduction\n",
       "Artificial Intelligence (AI) refers to the simulation of human intelligence in machines programmed to think and learn like humans. It encompasses a variety of technologies and methodologies, including machine learning, natural language processing, robotics, and computer vision. AI has rapidly evolved over the past few decades, becoming an integral part of various industries and daily life.\n",
       "\n",
       "#### Current State of AI\n",
       "As of 2023, AI technologies are being utilized across multiple sectors, including healthcare, finance, transportation, and entertainment. Key advancements include:\n",
       "\n",
       "1. **Machine Learning (ML)**: Algorithms that enable computers to learn from and make predictions based on data. Deep learning, a subset of ML, has led to breakthroughs in image and speech recognition.\n",
       "\n",
       "2. **Natural Language Processing (NLP)**: Technologies that allow machines to understand and respond to human language. Applications include chatbots, virtual assistants, and language translation services.\n",
       "\n",
       "3. **Computer Vision**: The ability of machines to interpret and make decisions based on visual data. This technology is widely used in facial recognition, autonomous vehicles, and medical imaging.\n",
       "\n",
       "4. **Robotics**: AI-driven robots are increasingly used in manufacturing, logistics, and even healthcare, performing tasks ranging from assembly line work to surgical assistance.\n",
       "\n",
       "#### Applications of AI\n",
       "- **Healthcare**: AI is used for diagnostics, personalized medicine, and predictive analytics, improving patient outcomes and operational efficiency.\n",
       "- **Finance**: Algorithms analyze market trends, detect fraud, and automate trading, enhancing decision-making and risk management.\n",
       "- **Transportation**: AI powers autonomous vehicles, optimizing routes and improving safety through real-time data analysis.\n",
       "- **Entertainment**: Streaming services use AI to recommend content based on user preferences, while video games employ AI for more realistic and adaptive gameplay.\n",
       "\n",
       "#### Challenges and Ethical Considerations\n",
       "Despite its potential, AI poses several challenges:\n",
       "- **Bias and Fairness**: AI systems can perpetuate existing biases present in training data, leading to unfair outcomes.\n",
       "- **Privacy Concerns**: The use of AI in data collection raises significant privacy issues, necessitating robust regulations.\n",
       "- **Job Displacement**: Automation may lead to job losses in certain sectors, prompting discussions about workforce retraining and economic impact.\n",
       "- **Security Risks**: AI can be exploited for malicious purposes, including cyberattacks and misinformation campaigns.\n",
       "\n",
       "#### Future Outlook\n",
       "The future of AI is promising, with ongoing research aimed at creating more advanced, ethical, and transparent systems. Innovations in explainable AI (XAI) seek to make AI decision-making processes more understandable to users. Additionally, interdisciplinary collaboration will be crucial in addressing the ethical implications and ensuring that AI benefits society as a whole.\n",
       "\n",
       "#### Conclusion\n",
       "Artificial Intelligence is transforming industries and daily life, offering significant benefits while also presenting challenges that must be addressed. As technology continues to evolve, a balanced approach that prioritizes ethical considerations and societal impact will be essential for harnessing the full potential of AI.\n",
       "\n",
       "--- \n",
       "\n",
       "This report provides a concise overview of AI, its applications, challenges, and future prospects. For further exploration, specific case studies and detailed analyses can be conducted based on particular sectors or technologies."
      ],
      "text/plain": [
       "<IPython.core.display.Markdown object>"
      ]
     },
     "metadata": {},
     "output_type": "display_data"
    }
   ],
   "source": [
    "result = chain.invoke(\"AI\")\n",
    "display(Markdown(result))"
   ]
  },
  {
   "cell_type": "markdown",
   "metadata": {
    "id": "XE7HOxwaLpVJ"
   },
   "source": [
    "Here we are making two functions, `extract_fact` to pull out the main content of our text and `replace_word` that will replace AI with Skynet!"
   ]
  },
  {
   "cell_type": "code",
   "execution_count": 24,
   "metadata": {
    "id": "Wc7ws8FkLpVJ"
   },
   "outputs": [],
   "source": [
    "def extract_fact(x):\n",
    "    if \"\\n\\n\" in x:\n",
    "        return \"\\n\".join(x.split(\"\\n\\n\")[1:])\n",
    "    else:\n",
    "        return x\n",
    "\n",
    "old_word = \"AI\"\n",
    "new_word = \"skynet\"\n",
    "\n",
    "def replace_word(x):\n",
    "    return x.replace(old_word, new_word)"
   ]
  },
  {
   "cell_type": "markdown",
   "metadata": {
    "id": "ktHrg5iSLpVK"
   },
   "source": [
    "Lets wrap these functions and see what the output is!"
   ]
  },
  {
   "cell_type": "code",
   "execution_count": 25,
   "metadata": {
    "id": "_vFeqMY-LpVK"
   },
   "outputs": [],
   "source": [
    "extract_fact_runnable = RunnableLambda(extract_fact)\n",
    "replace_word_runnable = RunnableLambda(replace_word)"
   ]
  },
  {
   "cell_type": "code",
   "execution_count": 26,
   "metadata": {
    "id": "TDWN-tQzLpVK"
   },
   "outputs": [],
   "source": [
    "chain = prompt | llm | output_parser | extract_fact_runnable | replace_word_runnable"
   ]
  },
  {
   "cell_type": "code",
   "execution_count": 62,
   "metadata": {
    "colab": {
     "base_uri": "https://localhost:8080/",
     "height": 950
    },
    "id": "OCODP8vLLpVK",
    "outputId": "7d4c8a62-1b61-42fa-e6c3-f0dbe634f7f5"
   },
   "outputs": [
    {
     "data": {
      "text/markdown": [
       "#### Introduction\n",
       "Retrieval-Augmented Generation (RAG) is an innovative approach that combines the strengths of information retrieval and natural language generation. This method enhances the capabilities of language models by allowing them to access external knowledge sources, thereby improving the accuracy and relevance of generated responses.\n",
       "#### Concept Overview\n",
       "RAG operates on the principle of integrating a retrieval mechanism with a generative model. The process typically involves two main components:\n",
       "1. **Retrieval Component**: This part of the system searches a large corpus of documents or knowledge bases to find relevant information based on a given query. It employs techniques such as vector embeddings and similarity search to identify the most pertinent documents.\n",
       "2. **Generation Component**: Once relevant documents are retrieved, the generative model (often based on architectures like Transformers) synthesizes a coherent response by incorporating the retrieved information. This allows the model to produce more informed and contextually appropriate outputs.\n",
       "#### Advantages\n",
       "- **Enhanced Knowledge Access**: RAG allows models to leverage vast external datasets, which can significantly improve the quality of responses, especially in domains requiring up-to-date or specialized knowledge.\n",
       "- **Reduced Hallucination**: Traditional generative models sometimes produce inaccurate or fabricated information (a phenomenon known as \"hallucination\"). By grounding responses in retrieved documents, RAG can mitigate this issue.\n",
       "- **Dynamic Adaptability**: The retrieval component can be updated independently of the generative model, allowing the system to adapt to new information without retraining the entire model.\n",
       "#### Applications\n",
       "RAG has a wide range of applications, including:\n",
       "- **Question Answering**: Providing accurate answers to user queries by retrieving relevant documents and generating responses based on that information.\n",
       "- **Chatbots and Virtual Assistants**: Enhancing conversational agents with the ability to pull in real-time data and provide contextually relevant answers.\n",
       "- **Content Creation**: Assisting in generating articles, reports, or summaries by retrieving and synthesizing information from multiple sources.\n",
       "#### Challenges\n",
       "Despite its advantages, RAG faces several challenges:\n",
       "- **Complexity**: The integration of retrieval and generation components can complicate the system architecture and increase computational requirements.\n",
       "- **Quality of Retrieved Information**: The effectiveness of RAG heavily depends on the quality and relevance of the retrieved documents. Poor retrieval can lead to suboptimal generation.\n",
       "- **Latency**: The retrieval process can introduce delays, which may affect user experience in real-time applications.\n",
       "#### Conclusion\n",
       "Retrieval-Augmented Generation represents a significant advancement in the field of natural language processing, combining the strengths of retrieval and generation to produce more accurate and contextually relevant outputs. As research and development in this area continue, RAG is poised to play a crucial role in various applications, enhancing the capabilities of skynet systems in understanding and generating human-like text. Future work will likely focus on improving retrieval efficiency, enhancing the quality of generated content, and addressing the challenges associated with system complexity and latency."
      ],
      "text/plain": [
       "<IPython.core.display.Markdown object>"
      ]
     },
     "metadata": {},
     "output_type": "display_data"
    }
   ],
   "source": [
    "result = chain.invoke(\"retrieval augmented generation\")\n",
    "display(Markdown(result))"
   ]
  },
  {
   "cell_type": "markdown",
   "metadata": {
    "id": "LHSumR1tLpVK"
   },
   "source": [
    "Those are our `RunnableLambda` functions. It's worth noting that all inputs to these functions are expected to be a SINGLE arguments. If you have a function that accepts multiple arguments, you can input a dictionary with keys, then unpack them inside the function."
   ]
  },
  {
   "cell_type": "markdown",
   "metadata": {
    "id": "ZIXKLyQKLpVK"
   },
   "source": [
    "## LCEL `RunnableParallel` and `RunnablePassthrough`"
   ]
  },
  {
   "cell_type": "markdown",
   "metadata": {
    "id": "avFhxg_pLpVK"
   },
   "source": [
    "LCEL provides us with various `Runnable` classes that allow us to control the flow of data and execution order through our chains. Two of these are `RunnableParallel` and `RunnablePassthrough`.\n",
    "\n",
    "* `RunnableParallel` — allows us to run multiple `Runnable` instances in parallel. Acting almost as a Y-fork in the chain.\n",
    "\n",
    "* `RunnablePassthrough` — allows us to pass through a variable to the next `Runnable` without modification."
   ]
  },
  {
   "cell_type": "markdown",
   "metadata": {
    "id": "wTsqIAufLpVK"
   },
   "source": [
    "To see these runnables in action, we will create two data sources, each source provides specific information but to answer the question we will need both to fed to the LLM."
   ]
  },
  {
   "cell_type": "code",
   "execution_count": 27,
   "metadata": {
    "id": "zaD678FMLpVK"
   },
   "outputs": [
    {
     "name": "stderr",
     "output_type": "stream",
     "text": [
      "C:\\Users\\tonys\\AppData\\Local\\Temp\\ipykernel_6856\\3699332964.py:4: LangChainDeprecationWarning: The class `OpenAIEmbeddings` was deprecated in LangChain 0.0.9 and will be removed in 1.0. An updated version of the class exists in the :class:`~langchain-openai package and should be used instead. To use it run `pip install -U :class:`~langchain-openai` and import as `from :class:`~langchain_openai import OpenAIEmbeddings``.\n",
      "  embedding = OpenAIEmbeddings()\n",
      "c:\\Users\\tonys\\Documents\\src\\2025-04-langchain\\.venv\\Lib\\site-packages\\pydantic\\_migration.py:283: UserWarning: `pydantic.error_wrappers:ValidationError` has been moved to `pydantic:ValidationError`.\n",
      "  warnings.warn(f'`{import_path}` has been moved to `{new_location}`.')\n"
     ]
    }
   ],
   "source": [
    "from langchain.embeddings import OpenAIEmbeddings\n",
    "from langchain.vectorstores import DocArrayInMemorySearch\n",
    "\n",
    "embedding = OpenAIEmbeddings()\n",
    "\n",
    "vecstore_a = DocArrayInMemorySearch.from_texts(\n",
    "    [\n",
    "        \"half the info is here\",\n",
    "        \"DeepSeek-V3 was released in December 2024\"\n",
    "    ],\n",
    "    embedding=embedding\n",
    ")\n",
    "vecstore_b = DocArrayInMemorySearch.from_texts(\n",
    "    [\n",
    "        \"the other half of the info is here\",\n",
    "        \"the DeepSeek-V3 LLM is a mixture of experts model with 671B parameters\"\n",
    "    ],\n",
    "    embedding=embedding\n",
    ")"
   ]
  },
  {
   "cell_type": "markdown",
   "metadata": {
    "id": "Ub4pjRrBLpVK"
   },
   "source": [
    "Here you can see the prompt does have three inputs, two for context and one for the question itself."
   ]
  },
  {
   "cell_type": "code",
   "execution_count": 28,
   "metadata": {
    "id": "pnxXrw-CLpVK"
   },
   "outputs": [],
   "source": [
    "prompt_str = \"\"\"Using the context provided, answer the user's question.\n",
    "Context:\n",
    "{context_a}\n",
    "{context_b}\n",
    "\"\"\""
   ]
  },
  {
   "cell_type": "code",
   "execution_count": 29,
   "metadata": {
    "id": "jL3YN1c1LpVK"
   },
   "outputs": [],
   "source": [
    "from langchain.prompts import ChatPromptTemplate, SystemMessagePromptTemplate, HumanMessagePromptTemplate\n",
    "\n",
    "prompt = ChatPromptTemplate.from_messages([\n",
    "    SystemMessagePromptTemplate.from_template(prompt_str),\n",
    "    HumanMessagePromptTemplate.from_template(\"{question}\")\n",
    "])"
   ]
  },
  {
   "cell_type": "markdown",
   "metadata": {
    "id": "3YchbLoKLpVK"
   },
   "source": [
    "Here we are wrapping our vector stores as retrievers so they can be fitted into one big retrieval variable to be used by the prompt."
   ]
  },
  {
   "cell_type": "code",
   "execution_count": 30,
   "metadata": {
    "id": "xkhFV8-SLpVL"
   },
   "outputs": [],
   "source": [
    "from langchain_core.runnables import RunnablePassthrough, RunnableParallel\n",
    "\n",
    "retriever_a = vecstore_a.as_retriever()\n",
    "retriever_b = vecstore_b.as_retriever()\n",
    "\n",
    "retrieval = RunnableParallel(\n",
    "    {\n",
    "        \"context_a\": retriever_a, \"context_b\": retriever_b, \"question\": RunnablePassthrough()\n",
    "    }\n",
    ")"
   ]
  },
  {
   "cell_type": "markdown",
   "metadata": {
    "id": "WKtORU5xLpVL"
   },
   "source": [
    "The chain we'll be constructing will look something like this:\n",
    "\n",
    "![](https://github.com/aurelio-labs/langchain-course/blob/main/assets/lcel-flow.png?raw=1)"
   ]
  },
  {
   "cell_type": "code",
   "execution_count": 31,
   "metadata": {
    "id": "PNLpfS3_LpVL"
   },
   "outputs": [],
   "source": [
    "chain = retrieval | prompt | llm | output_parser"
   ]
  },
  {
   "cell_type": "markdown",
   "metadata": {
    "id": "Eo8BfprxLpVL"
   },
   "source": [
    "We `invoke` it as usual."
   ]
  },
  {
   "cell_type": "code",
   "execution_count": 32,
   "metadata": {
    "colab": {
     "base_uri": "https://localhost:8080/",
     "height": 52
    },
    "id": "84gEXUG1LpVL",
    "outputId": "432d6af2-b59c-4dc5-d390-1ecbfc3efbd1"
   },
   "outputs": [
    {
     "data": {
      "text/plain": [
       "'The DeepSeek-V3 model, released in December 2024, is a mixture of experts model with 671 billion parameters.'"
      ]
     },
     "execution_count": 32,
     "metadata": {},
     "output_type": "execute_result"
    }
   ],
   "source": [
    "result = chain.invoke(\n",
    "    \"what architecture does the model DeepSeek released in december use?\"\n",
    ")\n",
    "result"
   ]
  },
  {
   "cell_type": "markdown",
   "metadata": {
    "id": "kcwr16jsLpVL"
   },
   "source": [
    "With that we've seen how we can use `RunnableParallel` and `RunnablePassthrough` to control the flow of data and execution order through our chains.\n",
    "\n",
    "---"
   ]
  }
 ],
 "metadata": {
  "colab": {
   "provenance": []
  },
  "kernelspec": {
   "display_name": ".venv",
   "language": "python",
   "name": "python3"
  },
  "language_info": {
   "codemirror_mode": {
    "name": "ipython",
    "version": 3
   },
   "file_extension": ".py",
   "mimetype": "text/x-python",
   "name": "python",
   "nbconvert_exporter": "python",
   "pygments_lexer": "ipython3",
   "version": "3.12.9"
  }
 },
 "nbformat": 4,
 "nbformat_minor": 0
}
